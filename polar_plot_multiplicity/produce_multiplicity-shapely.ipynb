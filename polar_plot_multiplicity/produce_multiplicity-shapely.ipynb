{
 "cells": [
  {
   "cell_type": "code",
   "execution_count": null,
   "metadata": {},
   "outputs": [],
   "source": [
    "import numpy as np\n",
    "import matplotlib.pyplot as plt\n",
    "import matplotlib as mpl\n",
    "import copy"
   ]
  },
  {
   "cell_type": "code",
   "execution_count": null,
   "metadata": {},
   "outputs": [],
   "source": [
    "from descartes import PolygonPatch\n",
    "from shapely.ops import unary_union, polygonize\n",
    "from shapely.geometry import mapping, Polygon, Point, LineString\n",
    "#from matplotlib.colors import ListedColormap"
   ]
  },
  {
   "cell_type": "code",
   "execution_count": null,
   "metadata": {},
   "outputs": [],
   "source": [
    "plt.rcParams['figure.figsize'] = (14, 10)\n",
    "plt.rcParams['font.size'] = 12\n",
    "plt.rcParams['figure.figsize']\n",
    "\n"
   ]
  },
  {
   "cell_type": "markdown",
   "metadata": {},
   "source": [
    "# Polar FOVS"
   ]
  },
  {
   "cell_type": "markdown",
   "metadata": {
    "heading_collapsed": true
   },
   "source": [
    "## load fovs"
   ]
  },
  {
   "cell_type": "code",
   "execution_count": null,
   "metadata": {
    "hidden": true
   },
   "outputs": [],
   "source": [
    "# FOV 05\n",
    "div_05 = open(\"CTA-ULTRA6-LaPalma-divergent_05_180.cfg\")\n",
    "text_05 = div_05.read()\n",
    "text_05 = text_05.split(\"#\")[1:]\n",
    "\n",
    "tels_dict_05 = {}\n",
    "for line in text_05:\n",
    "    line_list = line.split(\"\\n\")\n",
    "    tels_dict_05[int(line_list[0])] = {\n",
    "        line_list[1].split(\"=\")[0]: float(line_list[1].split(\"=\")[1]),\n",
    "        line_list[2].split(\"=\")[0]: float(line_list[2].split(\"=\")[1]),\n",
    "    }"
   ]
  },
  {
   "cell_type": "code",
   "execution_count": null,
   "metadata": {
    "hidden": true
   },
   "outputs": [],
   "source": [
    "# fov 2\n",
    "div_2 = open(\"CTA-ULTRA6-LaPalma-divergent_2_180.cfg\")\n",
    "text_2 = div_2.read()\n",
    "text_2 = text_2.split(\"#\")[1:]\n",
    "\n",
    "tels_dict_2 = {}\n",
    "for line in text_2:\n",
    "    line_list = line.split(\"\\n\")\n",
    "    tels_dict_2[int(line_list[0])] = {\n",
    "        line_list[1].split(\"=\")[0]: float(line_list[1].split(\"=\")[1]),\n",
    "        line_list[2].split(\"=\")[0]: float(line_list[2].split(\"=\")[1]),\n",
    "    }"
   ]
  },
  {
   "cell_type": "code",
   "execution_count": null,
   "metadata": {
    "hidden": true
   },
   "outputs": [],
   "source": [
    "# fov 3\n",
    "div_3 = open(\"CTA-ULTRA6-LaPalma-divergent_3_180.cfg\")\n",
    "text_3 = div_3.read()\n",
    "text_3 = text_3.split(\"#\")[1:]\n",
    "\n",
    "tels_dict_3 = {}\n",
    "for line in text_3:\n",
    "    line_list = line.split(\"\\n\")\n",
    "    tels_dict_3[int(line_list[0])] = {\n",
    "        line_list[1].split(\"=\")[0]: float(line_list[1].split(\"=\")[1]),\n",
    "        line_list[2].split(\"=\")[0]: float(line_list[2].split(\"=\")[1]),\n",
    "    }"
   ]
  },
  {
   "cell_type": "code",
   "execution_count": null,
   "metadata": {
    "hidden": true
   },
   "outputs": [],
   "source": [
    "# FOV 4\n",
    "div_4 = open(\"CTA-ULTRA6-LaPalma-divergent_4_180.cfg\")\n",
    "text_4 = div_4.read()\n",
    "text_4 = text_4.split(\"#\")[1:]\n",
    "\n",
    "tels_dict_4 = {}\n",
    "for line in text_4:\n",
    "    line_list = line.split(\"\\n\")\n",
    "    tels_dict_4[int(line_list[0])] = {\n",
    "        line_list[1].split(\"=\")[0]: float(line_list[1].split(\"=\")[1]),\n",
    "        line_list[2].split(\"=\")[0]: float(line_list[2].split(\"=\")[1]),\n",
    "    }"
   ]
  },
  {
   "cell_type": "markdown",
   "metadata": {},
   "source": [
    "## plot fovs"
   ]
  },
  {
   "cell_type": "code",
   "execution_count": null,
   "metadata": {
    "code_folding": []
   },
   "outputs": [],
   "source": [
    "import numpy as np\n",
    "\n",
    "import matplotlib.pyplot as plt\n",
    "import matplotlib.cbook as cbook\n",
    "\n",
    "from mpl_toolkits.axisartist import Subplot\n",
    "from mpl_toolkits.axisartist import SubplotHost,    ParasiteAxesAuxTrans\n",
    "from mpl_toolkits.axisartist.grid_helper_curvelinear import GridHelperCurveLinear\n",
    "import mpl_toolkits.axisartist.angle_helper as angle_helper\n",
    "from matplotlib.projections import PolarAxes\n",
    "from matplotlib.transforms import Affine2D\n",
    "\n",
    "\n",
    "def polar_stuff(fig, data):\n",
    "    # PolarAxes.PolarTransform takes radian. However, we want our coordinate\n",
    "    # system in degree\n",
    "    tr = Affine2D().scale(np.pi/180., 1.).translate(+np.pi/2.,0) + PolarAxes.PolarTransform()\n",
    "\n",
    "    # polar projection, which involves cycle, and also has limits in\n",
    "    # its coordinates, needs a special method to find the extremes\n",
    "    # (min, max of the coordinate within the view).\n",
    "\n",
    "    # 20, 20 : number of sampling points along x, y direction\n",
    "    extreme_finder = angle_helper.ExtremeFinderCycle(20, 20,\n",
    "                                                     lon_cycle=360,\n",
    "                                                     lat_cycle=None,\n",
    "                                                     lon_minmax=None,\n",
    "                                                     lat_minmax=(-90, 90),\n",
    "                                                     )\n",
    "\n",
    "    grid_locator1 = angle_helper.LocatorDMS(12)\n",
    "    # Find a grid values appropriate for the coordinate (degree,\n",
    "    # minute, second).\n",
    "\n",
    "    tick_formatter1 = angle_helper.FormatterDMS()\n",
    "    # And also uses an appropriate formatter.  Note that,the\n",
    "    # acceptable Locator and Formatter class is a bit different than\n",
    "    # that of mpl's, and you cannot directly use mpl's Locator and\n",
    "    # Formatter here (but may be possible in the future).\n",
    "\n",
    "    grid_helper = GridHelperCurveLinear(tr,\n",
    "                                        extreme_finder=extreme_finder,\n",
    "                                        grid_locator1=grid_locator1,\n",
    "                                        tick_formatter1=tick_formatter1\n",
    "                                        )\n",
    "\n",
    "    ax1 = SubplotHost(fig, 1, 1, 1, grid_helper=grid_helper)\n",
    "\n",
    "    # make ticklabels of right and top axis visible.\n",
    "    ax1.axis[\"right\"].major_ticklabels.set_visible(True)\n",
    "    ax1.axis[\"top\"].major_ticklabels.set_visible(True)\n",
    "\n",
    "    # let right axis shows ticklabels for 1st coordinate (angle)\n",
    "    ax1.axis[\"right\"].get_helper().nth_coord_ticks = 0\n",
    "    # let bottom axis shows ticklabels for 2nd coordinate (radius)\n",
    "    ax1.axis[\"bottom\"].get_helper().nth_coord_ticks = 1\n",
    "\n",
    "    fig.add_subplot(ax1)\n",
    "\n",
    "    # A parasite axes with given transform\n",
    "    ax2 = ParasiteAxesAuxTrans(ax1, tr, \"equal\")\n",
    "    # note that ax2.transData == tr + ax1.transData\n",
    "    # Anything you draw in ax2 will match the ticks and grids of ax1.\n",
    "    ax1.parasites.append(ax2)\n",
    "    # intp = cbook.simple_linear_interpolation\n",
    "    #ax2.plot(intp(np.array([0, 30]), 50),\n",
    "    #         intp(np.array([10., 10.]), 50),\n",
    "    #         linewidth=2.0)\n",
    "\n",
    "    for key, value in data.items():\n",
    "        if key < 5:\n",
    "            continue\n",
    "        theta = value['THETA']\n",
    "        phi = value['PHI']\n",
    "        # point.set_transform(ax2.transData)\n",
    "        # transform center coordinates: \n",
    "        # circle1 = plt.Circle(\n",
    "        #     (\n",
    "        #         (phi-180)*(theta/np.cos((phi-180)*np.pi/180))/90*np.pi/2,\n",
    "        #         #(phi-180)*(theta)/(90),\n",
    "        #         -theta*np.cos((phi-180)*np.pi/180)\n",
    "        #     ), \n",
    "        #     7.7/2, color='r', alpha=0.1\n",
    "        # )\n",
    "        circle1 = plt.Circle(\n",
    "            (\n",
    "                (phi-180)*np.sin(theta*np.pi/180), \n",
    "                -theta*np.cos((phi-180)*np.pi/180)\n",
    "            ), \n",
    "            radius=7.7/2, \n",
    "            color=\"red\", alpha=0.2\n",
    "        )\n",
    "\n",
    "\n",
    "        ax1.add_artist(circle1)\n",
    "        point = ax1.scatter(phi, theta, c = \"b\", s = 20, zorder= 10, transform=ax2.transData)\n",
    "        # ax2.scatter(phi, theta, c = \"b\", s = 50)\n",
    "        ax2.annotate((key), (phi, theta), fontsize=15, xytext=(4, 4), textcoords='offset pixels')\n",
    "\n",
    "    ax1.scatter(0, -20, label=\"MC\", zorder=20, c=\"green\")\n",
    "    ax2.annotate(\"MC\", (180, 20),  \n",
    "                 fontsize=30, xytext=(-15, 4), \n",
    "                 textcoords='offset pixels', \n",
    "                 zorder=30, color=\"green\")\n",
    "\n",
    "\n",
    "    ax1.set_xlim(-10,10)\n",
    "    ax1.set_ylim(-32, -8)\n",
    "    ax1.set_aspect(1.)\n",
    "    ax1.grid(True, zorder=0)\n",
    "    ax1.set_xlabel(\"Azimuth in degrees\", fontsize=20)\n",
    "    ax1.set_ylabel(\"Zenith in degrees\", fontsize=20)\n",
    "    return fig, point"
   ]
  },
  {
   "cell_type": "code",
   "execution_count": null,
   "metadata": {},
   "outputs": [],
   "source": [
    "tel_fake = {}\n",
    "tel_fake[14] = {'PHI':190, 'THETA':30}\n",
    "tel_fake[19] = {'PHI':150, 'THETA':12}\n"
   ]
  },
  {
   "cell_type": "code",
   "execution_count": null,
   "metadata": {},
   "outputs": [],
   "source": [
    "fig = polar_stuff(plt.figure(figsize=(10,8)), tels_dict_4)\n",
    "#plt.xlabel(\"test\", fontsize=100)\n",
    "plt.title(\"Pointing of MSTs: cfg 4\", fontsize=15, y=1.05)\n",
    "#plt.title(\"test\",fontsize=50)\n",
    "\n",
    "# plt.savefig(\"fov-scale-cfg-4_180_sphere.jpg\", bbox_inches='tight')\n",
    "plt.draw()\n",
    "plt.show()"
   ]
  },
  {
   "cell_type": "markdown",
   "metadata": {},
   "source": [
    "DISCLAIMER: this plot is almost ok. There must be some projection that I haven't taken into account when plotting the circle centers. "
   ]
  },
  {
   "cell_type": "markdown",
   "metadata": {},
   "source": [
    "# shapely"
   ]
  },
  {
   "cell_type": "code",
   "execution_count": null,
   "metadata": {},
   "outputs": [],
   "source": [
    "# If you use the dummy, you can clearly see the superposition\n",
    "\n",
    "dummy_test = {}\n",
    "dummy_test[1] = {'THETA': 20, 'PHI': 180}\n",
    "dummy_test[2] = {'THETA': 20, 'PHI': 180.1}\n",
    "dummy_test[3] = {'THETA': 20, 'PHI': 179.9}\n"
   ]
  },
  {
   "cell_type": "code",
   "execution_count": null,
   "metadata": {},
   "outputs": [],
   "source": [
    "# instead of tel_dict_4, you can use tel_dummy\n",
    "polygons = {}\n",
    "for key, value in dummy_test.items():\n",
    "    polygons[key-1] = Point(value['PHI'], value['THETA']).buffer(7.7/2)\n",
    "\n",
    "xrange = [165, 195]\n",
    "yrange = [10, 30]"
   ]
  },
  {
   "cell_type": "code",
   "execution_count": null,
   "metadata": {},
   "outputs": [],
   "source": [
    "rings = [LineString(list(pol.exterior.coords)) for pol in polygons.values()]\n",
    "union = unary_union(rings)\n",
    "result = {counter:geom for counter, geom in enumerate(polygonize(union))}\n",
    "\n",
    "ori = list(polygons.values())\n",
    "res = list(result.values())"
   ]
  },
  {
   "cell_type": "code",
   "execution_count": null,
   "metadata": {
    "code_folding": []
   },
   "outputs": [],
   "source": [
    "dict_count_overlaps = {}\n",
    "for i in range(len(res)):\n",
    "    dict_count_overlaps[i] = 0\n",
    "    for j in range(len(ori)):\n",
    "        if np.isclose(res[i].difference(ori[j]).area, 0):\n",
    "            dict_count_overlaps[i] +=1\n",
    "            #print(f\"res_{colors[i]}, orig_{j+1}\")"
   ]
  },
  {
   "cell_type": "code",
   "execution_count": null,
   "metadata": {},
   "outputs": [],
   "source": [
    "max_multiplicity = max(dict_count_overlaps.values())\n",
    "\n",
    "cmap = plt.cm.get_cmap('rainbow')\n",
    "color_list = cmap(np.linspace(0, 1, max_multiplicity))\n",
    "bounds = np.arange(max_multiplicity + 1) + 1"
   ]
  },
  {
   "cell_type": "code",
   "execution_count": null,
   "metadata": {
    "code_folding": [],
    "scrolled": false
   },
   "outputs": [],
   "source": [
    "fig = plt.figure()\n",
    "gs  = mpl.gridspec.GridSpec(1, 2, width_ratios=[0.95, 0.05])\n",
    "\n",
    "ax = plt.subplot(gs[0])\n",
    "ax_cb = plt.subplot(gs[1])\n",
    "\n",
    "fig.subplots_adjust(top=0.85)\n",
    "\n",
    "for pol_id, pol in result.items():\n",
    "    colore = dict_count_overlaps[pol_id]\n",
    "    ax.add_patch(\n",
    "        PolygonPatch(mapping(pol), color=color_list[colore-1])\n",
    "    )\n",
    "\n",
    "norm = mpl.colors.BoundaryNorm(bounds, cmap.N)\n",
    "\n",
    "cb1 = mpl.colorbar.ColorbarBase(ax_cb, \n",
    "                                norm=norm, \n",
    "                                cmap=cmap, \n",
    "                                boundaries = bounds,\n",
    "                                orientation='vertical')\n",
    "cb1.set_ticks(np.arange(max_multiplicity + 1) + 0.5) \n",
    "cb1.set_ticklabels(np.arange(max_multiplicity + 1) + 1)\n",
    "\n",
    "ax.set_xlim(*xrange)\n",
    "ax.set_ylim(*yrange)\n",
    "ax.set_aspect(1)\n",
    "plt.show()"
   ]
  },
  {
   "cell_type": "markdown",
   "metadata": {},
   "source": [
    "**ori** are the original circles, whereas **res** are the single patches into which we have divided the circles. Each patch have a **.area** attribute\n"
   ]
  },
  {
   "cell_type": "code",
   "execution_count": null,
   "metadata": {},
   "outputs": [],
   "source": [
    "hfov = []\n",
    "for patchsky in res:\n",
    "    hfov.append(patchsky.area)\n",
    "    \n",
    "hfov = np.array(hfov)"
   ]
  },
  {
   "cell_type": "code",
   "execution_count": null,
   "metadata": {},
   "outputs": [],
   "source": [
    "# multiplicity associated with each patch\n",
    "overlaps = np.array(list(dict_count_overlaps.values()))"
   ]
  },
  {
   "cell_type": "code",
   "execution_count": null,
   "metadata": {},
   "outputs": [],
   "source": [
    "average_overlap = np.average(overlaps, weights=hfov)\n",
    "variance = np.average((overlaps-average_overlap)**2, weights=hfov)\n",
    "print(average_overlap, variance, np.sqrt(variance))"
   ]
  },
  {
   "cell_type": "code",
   "execution_count": null,
   "metadata": {},
   "outputs": [],
   "source": []
  }
 ],
 "metadata": {
  "kernelspec": {
   "display_name": "Python 3",
   "language": "python",
   "name": "python3"
  },
  "language_info": {
   "codemirror_mode": {
    "name": "ipython",
    "version": 3
   },
   "file_extension": ".py",
   "mimetype": "text/x-python",
   "name": "python",
   "nbconvert_exporter": "python",
   "pygments_lexer": "ipython3",
   "version": "3.6.9"
  }
 },
 "nbformat": 4,
 "nbformat_minor": 2
}
