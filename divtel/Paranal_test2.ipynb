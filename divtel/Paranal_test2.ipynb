{
 "cells": [
  {
   "cell_type": "code",
   "execution_count": null,
   "metadata": {
    "pycharm": {
     "name": "#%%\n"
    }
   },
   "outputs": [],
   "source": [
    "import astropy.units as u\n",
    "import numpy as np\n",
    "import pandas as pd\n",
    "import matplotlib.pyplot as plt\n",
    "import matplotlib as mpl\n",
    "from divtel.telescope import Telescope, Array"
   ]
  },
  {
   "cell_type": "code",
   "execution_count": null,
   "metadata": {
    "pycharm": {
     "name": "#%%\n"
    }
   },
   "outputs": [],
   "source": [
    "#Paranal baseline array\n",
    "file = open(\"/Users/alicedonini/Lavoro/Divergent/Divergent-Pointing/layout_Paranal_HB9.lis\", \"r\")\n",
    "#array = Array()\n",
    "tels = []\n",
    "for line in file:\n",
    "    #split the string on whitespace, return a list of numbers as strings\n",
    "    coord_str = line.split()\n",
    "    coord_str[0], coord_str[1], coord_str[2] = float(coord_str[0]), float(coord_str[1]), float(coord_str[2])\n",
    "    coord = [x*u.m for x in coord_str]\n",
    "    #print(coord_float)\n",
    "    tel = Telescope(coord[0],coord[1],coord[2],coord[3],coord[4])\n",
    "    tels.append(tel)\n",
    "\n",
    "array = Array(tels)\n",
    "\n",
    "for tel in array.telescopes:\n",
    "    #print(tel.fov)\n",
    "    print(tel.id)\n",
    "    #print(tel.position)\n",
    "    #print(tel.camera_radius)"
   ]
  },
  {
   "cell_type": "code",
   "execution_count": null,
   "metadata": {
    "pycharm": {
     "name": "#%%\n"
    }
   },
   "outputs": [],
   "source": [
    "#Define where you want to point (ex. source in the simulation)\n",
    "az = 180 * u.deg\n",
    "alt = 70 * u.deg\n",
    "#Define divergence\n",
    "div=0.001\n",
    "#Divergent part\n",
    "np.array(array.divergent_pointing(div, alt, az))\n",
    "tels_alt = np.array([tel.alt.value for tel in array.telescopes])\n",
    "tels_az = np.array([tel.az.value for tel in array.telescopes])\n",
    "print(\"Az: \", np.degrees(tels_az))\n",
    "print(\"Alt: \", np.degrees(tels_alt))\n",
    "#print(\"barycenter: \", array.barycenter)\n",
    "\n",
    "#Add 360deg to negative Az value\n",
    "# for k, i in enumerate(tels_az):\n",
    "#     #print(i)\n",
    "#     if i < 0:\n",
    "#         az_new = i + np.radians(360)\n",
    "#     else:\n",
    "#         az_new = i\n",
    "#     tels_az[k] = az_new\n",
    "# print(tels_az)\n",
    "print(\"Az: \", np.degrees(tels_az))\n",
    "\n",
    "telescopes_distances = np.sqrt(np.sum((array.positions_array - array.barycenter)**2, axis=1))\n",
    "p = np.average(array.pointing_vectors, weights=telescopes_distances, axis=0)\n",
    "print(np.degrees(p))"
   ]
  },
  {
   "cell_type": "code",
   "execution_count": null,
   "metadata": {
    "pycharm": {
     "name": "#%%\n"
    }
   },
   "outputs": [],
   "source": [
    "#array layout plot\n",
    "plt.scatter(array.positions_array[:,0], array.positions_array[:,1])\n",
    "plt.axis('equal')"
   ]
  },
  {
   "cell_type": "code",
   "execution_count": null,
   "metadata": {
    "pycharm": {
     "name": "#%%\n"
    }
   },
   "outputs": [],
   "source": [
    "#2D display\n",
    "ax = array.display_2d(projection='xy')\n",
    "ax.legend()\n",
    "plt.axis('equal')"
   ]
  },
  {
   "cell_type": "code",
   "execution_count": null,
   "metadata": {
    "pycharm": {
     "name": "#%%\n"
    }
   },
   "outputs": [],
   "source": [
    "#3D display\n",
    "ax = array.display_3d()\n",
    "fig = ax.scatter(array.barycenter[0], array.barycenter[1], array.barycenter[2])\n",
    "#plt.savefig(\"3d_0.png\")"
   ]
  },
  {
   "cell_type": "code",
   "execution_count": null,
   "metadata": {
    "pycharm": {
     "name": "#%%\n"
    }
   },
   "outputs": [],
   "source": [
    "#tel dictionary with div pointing\n",
    "tels_dict = {}\n",
    "point_az_dict = {}\n",
    "point_alt_dict = {}\n",
    "\n",
    "for tel_id, tel in enumerate(array.telescopes, 1):\n",
    "    #tels_dict[ii] = {'THETA': 90-np.rad2deg(tel.alt.value),\n",
    "    #                 'PHI': np.rad2deg(np.mod(tel.az.value, 2*np.pi))}\n",
    "    tels_dict[tel_id] = {'az': tel.az,\n",
    "                     'alt': tel.alt}\n",
    "    point_az_dict[tel_id] = tel.az.value * u.rad\n",
    "    point_alt_dict[tel_id] = tel.alt.value * u.rad"
   ]
  },
  {
   "cell_type": "code",
   "execution_count": null,
   "metadata": {
    "pycharm": {
     "name": "#%%\n"
    }
   },
   "outputs": [],
   "source": [
    "from astropy.coordinates import SkyCoord, EarthLocation, AltAz, ICRS\n",
    "from astropy.time import Time\n",
    "\n",
    "#print(tels_az)\n",
    "\n",
    "location = EarthLocation.of_site('Roque de los Muchachos')\n",
    "obstime = Time('2013-11-01T03:00')\n",
    "altaz = AltAz(location=location, obstime=obstime)\n",
    "\n",
    "#Define pointing as a SkyCoord object\n",
    "#tels_pointing = {}\n",
    "#for tel_id, tel in enumerate(array.telescopes, 1):\n",
    "#    tels_pointing[tel_id] = SkyCoord(alt=tel.alt,az=tel.az, frame=AltAz())\n",
    "#print(tels_pointing)\n",
    "\n",
    "tels_pointing = SkyCoord(alt=tels_alt,az=tels_az, frame=altaz, unit='rad')\n",
    "#print(tels_pointing)\n",
    "\n",
    "array_pointing = SkyCoord(alt=70, az=180, frame=altaz, unit='deg')\n",
    "#print(array_pointing)\n",
    "\n",
    "icrs_point = tels_pointing.transform_to(ICRS())\n",
    "print(tels_pointing.transform_to(ICRS()))\n",
    "\n",
    "gal_point = tels_pointing.galactic\n",
    "#print(fk5_point)\n"
   ]
  },
  {
   "cell_type": "code",
   "execution_count": null,
   "metadata": {
    "pycharm": {
     "name": "#%%\n"
    }
   },
   "outputs": [],
   "source": [
    "#WORKING\n",
    "import mpl_toolkits.axisartist.angle_helper as angle_helper\n",
    "from mpl_toolkits.axisartist import Subplot\n",
    "from mpl_toolkits.axisartist import SubplotHost, ParasiteAxesAuxTrans\n",
    "from mpl_toolkits.axisartist.grid_helper_curvelinear import GridHelperCurveLinear\n",
    "from matplotlib.projections import PolarAxes\n",
    "from matplotlib.transforms import Affine2D\n",
    "from astropy.visualization.wcsaxes import SphericalCircle\n",
    "\n",
    "# PolarAxes.PolarTransform takes radian. However, we want our coordinate\n",
    "# system in degree\n",
    "tr = Affine2D().scale(np.pi/180., 1.).translate(+np.pi/2.,0) + PolarAxes.PolarTransform()\n",
    "\n",
    "# polar projection, which involves cycle, and also has limits in\n",
    "# its coordinates, needs a special method to find the extremes\n",
    "# (min, max of the coordinate within the view).\n",
    "\n",
    "# 20, 20 : number of sampling points along x, y direction\n",
    "n = 20\n",
    "extreme_finder = angle_helper.ExtremeFinderCycle(10, 10,\n",
    "                                                 lon_cycle=360,\n",
    "                                                 lat_cycle=None,\n",
    "                                                 lon_minmax=None,\n",
    "                                                 lat_minmax=(-90, 90),\n",
    "                                                 )\n",
    "\n",
    "grid_locator1 = angle_helper.LocatorDMS(12)\n",
    "# Find a grid values appropriate for the coordinate (degree,\n",
    "# minute, second).\n",
    "\n",
    "tick_formatter1 = angle_helper.FormatterDMS()\n",
    "# And also uses an appropriate formatter.  Note that,the\n",
    "# acceptable Locator and Formatter class is a bit different than\n",
    "# that of mpl's, and you cannot directly use mpl's Locator and\n",
    "# Formatter here (but may be possible in the future).\n",
    "\n",
    "grid_helper = GridHelperCurveLinear(tr,\n",
    "                                    extreme_finder=extreme_finder,\n",
    "                                    grid_locator1=grid_locator1,\n",
    "                                    tick_formatter1=tick_formatter1\n",
    "                                    )\n",
    "\n",
    "fig = plt.figure(figsize=(12,10))\n",
    "fig.clf()\n",
    "ax1 = SubplotHost(fig, 1, 1, 1, grid_helper=grid_helper)\n",
    "\n",
    "# make ticklabels of right and top axis visible.\n",
    "ax1.axis[\"right\"].major_ticklabels.set_visible(False)\n",
    "ax1.axis[\"top\"].major_ticklabels.set_visible(False)\n",
    "ax1.axis[\"bottom\"].major_ticklabels.set_visible(True)\n",
    "\n",
    "# let right axis shows ticklabels for 1st coordinate (angle)\n",
    "#ax1.axis[\"right\"].get_helper().nth_coord_ticks = 0\n",
    "# let bottom axis shows ticklabels for 2nd coordinate (radius)\n",
    "#ax1.axis[\"bottom\"].get_helper().nth_coord_ticks = 1\n",
    "\n",
    "fig.add_subplot(ax1)\n",
    "# A parasite axes with given transform\n",
    "ax2 = ParasiteAxesAuxTrans(ax1, tr, \"equal\")\n",
    "# note that ax2.transData == tr + ax1.transData\n",
    "# Anything you draw in ax2 will match the ticks and grids of ax1.\n",
    "ax1.parasites.append(ax2)\n",
    "\n",
    "for i, tel in enumerate(array.telescopes, 1):\n",
    "    tel_alt = tel.alt\n",
    "    tel_az = tel.az\n",
    "    tels_points = SkyCoord(alt=tel.alt.value,az=tel.az.value, frame=altaz, unit='rad')\n",
    "    x = tels_points.az.degree\n",
    "    y = tels_points.alt.degree\n",
    "    #print(x)\n",
    "    if (i <= 4):\n",
    "        r = SphericalCircle((x * u.deg, y * u.deg), tel.camera_radius * u.degree, color='black', alpha=0.2, transform=ax2.transData)\n",
    "    elif (i>= 30):\n",
    "        r = SphericalCircle((x * u.deg, y * u.deg), tel.camera_radius * u.degree, color='lightblue', alpha=0.3, transform=ax2.transData)\n",
    "    else:\n",
    "        r = SphericalCircle((x * u.deg, y * u.deg), tel.camera_radius * u.degree, color='r', alpha=0.4, transform=ax2.transData)\n",
    "#for i, tel in enumerate(tels_pointing, 1):\n",
    "    #x = tel.az.degree\n",
    "    #print(x)\n",
    "    #y = tel.alt.degree\n",
    "    #r = plt.Circle((x,y), 2, facecolor=\"red\")\n",
    "    #r = SphericalCircle((x * u.deg, y * u.deg), 7.7/2 * u.degree, color='r', alpha=0.1, transform=ax2.transData)\n",
    "    #TODO!!!!! insert right value of radius of the field of view\n",
    "    ax1.add_patch(r)\n",
    "    ax2.annotate(i, (x, y), fontsize=12, xytext=(4, 4), textcoords='offset pixels', zorder=10)\n",
    "    ax1.scatter(x, y, c = \"black\", s=20, transform=ax2.transData, zorder=10)\n",
    "\n",
    "#ax1.set_xlim(-26,26)\n",
    "#ax1.set_ylim(-80, -60)\n",
    "#ax1.set_xlim(-181, 181)\n",
    "#ax1.set_ylim(-91, 91)\n",
    "ax1.set_aspect(1.)\n",
    "\n",
    "ax1.grid(True)\n",
    "ax1.set_xlabel(\"Azimuth [deg]\", fontsize=20)\n",
    "ax1.set_ylabel(\"Zenith [deg]\", fontsize=20)\n",
    "\n",
    "\n",
    "plt.savefig(\"Paranal_skymap_div{}.png\".format(div))\n",
    "plt.show()\n"
   ]
  },
  {
   "cell_type": "code",
   "execution_count": null,
   "metadata": {
    "pycharm": {
     "name": "#%%\n"
    }
   },
   "outputs": [],
   "source": [
    "#SKYMAP\n",
    "from astroplan.plots import plot_sky\n",
    "from astroplan import FixedTarget\n",
    "from astroplan import Observer\n",
    "\n",
    "for ii, tel in enumerate(icrs_point, 1):\n",
    "    #print(tel.ra)\n",
    "    point = SkyCoord(ra=tel.ra, dec=tel.dec)\n",
    "    target = FixedTarget(coord=point, name=ii)\n",
    "    #print(target.coord)\n",
    "    location = EarthLocation.of_site('Roque de los Muchachos')\n",
    "    observer = Observer(location=location, name=\"Roque\")\n",
    "    observe_time = Time('2013-11-01T03:00')\n",
    "    plot_sky(target, observer, observe_time)\n",
    "\n",
    "plt.legend(loc='center left', bbox_to_anchor=(1.25, 0.5))\n",
    "plt.savefig(\"Paranal_astroplan_skymap_div{}.png\".format(div))\n",
    "\n",
    "plt.show()"
   ]
  },
  {
   "cell_type": "code",
   "execution_count": null,
   "metadata": {
    "pycharm": {
     "name": "#%%\n"
    }
   },
   "outputs": [],
   "source": [
    "from descartes import PolygonPatch\n",
    "from shapely.ops import unary_union, polygonize\n",
    "from shapely.geometry import mapping, Polygon, Point, LineString\n",
    "\n",
    "polygons = {}\n",
    "for ii, tel in enumerate(array.telescopes, 1):\n",
    "    #if ii < 5: #LSTs only\n",
    "    #if (ii>= 30): #SSTs only\n",
    "    #if (4 < ii < 30): #MST only\n",
    "    tel_alt = tel.alt\n",
    "    tel_az = tel.az\n",
    "    tels_points = SkyCoord(alt=tel.alt.value,az=tel.az.value, frame=altaz, unit='rad')\n",
    "    polygons[ii-1] = Point(tels_points.az.degree, 90-tels_points.alt.degree).buffer(tel.camera_radius)\n",
    "\n",
    "#for ii, tel in enumerate(tels_pointing, 1):\n",
    "    #polygons[ii-1] = Point(tel.az.degree, 90-tel.alt.degree).buffer(7.7/2)\n",
    "#print(polygons)\n",
    "\n",
    "xrange = [155, 205]\n",
    "yrange = [8, 33]\n",
    "\n",
    "rings = [LineString(list(pol.exterior.coords)) for pol in polygons.values()]\n",
    "union = unary_union(rings)\n",
    "result = {counter:geom for counter, geom in enumerate(polygonize(union))}\n",
    "\n",
    "ori = list(polygons.values())\n",
    "res = list(result.values())\n",
    "\n",
    "dict_count_overlaps = {}\n",
    "for i in range(len(res)):\n",
    "     dict_count_overlaps[i] = 0\n",
    "     for j in range(len(ori)):\n",
    "         if np.isclose(res[i].difference(ori[j]).area, 0):\n",
    "             dict_count_overlaps[i] +=1\n",
    "             #print(f\"res_{colors[i]}, orig_{j+1}\")\n",
    "\n",
    "\n",
    "max_multiplicity = max(dict_count_overlaps.values())\n",
    "#print(max_multiplicity)\n",
    "\n",
    "cmap = plt.cm.get_cmap('rainbow')\n",
    "color_list = cmap(np.linspace(0, 1, max_multiplicity))\n",
    "bounds = np.arange(max_multiplicity + 1) + 1\n",
    "\n",
    "fig = plt.figure()\n",
    "gs  = mpl.gridspec.GridSpec(1, 2, width_ratios=[0.95, 0.05])\n",
    "\n",
    "ax = plt.subplot(gs[0])\n",
    "ax_cb = plt.subplot(gs[1])\n",
    "\n",
    "fig.subplots_adjust(top=0.85)\n",
    "\n",
    "for pol_id, pol in result.items():\n",
    "     colore = dict_count_overlaps[pol_id]\n",
    "     ax.add_patch(\n",
    "         PolygonPatch(mapping(pol), color=color_list[colore-1])\n",
    "     )\n",
    "\n",
    "norm = mpl.colors.BoundaryNorm(bounds, cmap.N)\n",
    "\n",
    "cb1 = mpl.colorbar.ColorbarBase(ax_cb,\n",
    "                                 norm=norm,\n",
    "                                 cmap=cmap,\n",
    "                                 boundaries = bounds,\n",
    "                                 orientation='vertical',\n",
    "                                label='Multiplicity')\n",
    "cb1.set_ticks(np.arange(max_multiplicity + 1) + 0.5)\n",
    "cb1.set_ticklabels(np.arange(max_multiplicity + 1) + 1)\n",
    "\n",
    "ax.set_xlabel(\"Azimuth [deg]\")\n",
    "ax.set_ylabel(\"Altitude [deg]\")\n",
    "ax.set_xlim(*xrange)\n",
    "ax.set_ylim(*yrange)\n",
    "ax.set_aspect(1)\n",
    "plt.savefig(\"Paranal_multiplicity_plot_div{}.png\".format(div))\n",
    "plt.show()\n",
    "\n",
    "hfov = []\n",
    "for patchsky in res:\n",
    "     hfov.append(patchsky.area)\n",
    "     #print(patchsky.area)\n",
    "\n",
    "hfov = np.array(hfov)\n",
    "# multiplicity associated with each patch\n",
    "overlaps = np.array(list(dict_count_overlaps.values()))\n",
    "average_overlap = np.average(overlaps, weights=hfov)\n",
    "variance = np.average((overlaps-average_overlap)**2, weights=hfov)\n",
    "print(average_overlap, variance, np.sqrt(variance))\n",
    "print(hfov.sum())\n",
    "plt.figure()\n",
    "plt.bar(list(set(overlaps)), [hfov[overlaps==i].sum() for i in set(overlaps)])\n",
    "plt.ylabel('HFOV')\n",
    "plt.xlabel('Multiplicity')\n",
    "#plt.savefig(\"multiplicity_chart_div{}.png\".format(div))\n",
    "plt.show()\n"
   ]
  },
  {
   "cell_type": "code",
   "execution_count": null,
   "metadata": {
    "pycharm": {
     "name": "#%%\n"
    }
   },
   "outputs": [],
   "source": [
    "filename = 'CTA-ULTRA6-LaPalma-div{}.cfg'.format(div)\n",
    "with open(filename, 'w') as f:\n",
    "    f.write(\"\"\"#ifndef TELESCOPE\n",
    "# define TELESCOPE 0\n",
    "#endif\\n\n",
    "#if TELESCOPE == 0\\n\"\"\")\n",
    "    f.write('   TELESCOPE_THETA={:.2f} \\n'.format(90 - array_pointing.alt.value))\n",
    "    f.write('   TELESCOPE_PHI={:.2f} \\n'.format(array_pointing.az.value))\n",
    "    f.write(\"\"\"\\n% Global and default configuration for things missing in telescope-specific config.\n",
    "# include <CTA-ULTRA6-LST.cfg>\\n\"\"\")\n",
    "    for n, tel in enumerate(tels_pointing, 1):\n",
    "        zd = 90 - tel.alt.value\n",
    "        f.write('\\n#elif TELESCOPE == {:d}\\n'.format(n))\n",
    "        if n <= 4:\n",
    "            f.write('#  include <CTA-ULTRA6-LST.cfg>\\n')\n",
    "        else:\n",
    "            f.write('#  include <CTA-ULTRA6-MST-NectarCam.cfg>\\n')\n",
    "        f.write('   TELESCOPE_THETA={:.2f}\\n'.format(zd))\n",
    "        f.write('   TELESCOPE_PHI={:.2f}\\n'.format(tel.az.value))\n",
    "    f.write(\"\"\"\n",
    "#else\\n\n",
    "    Error Invalid telescope for CTA-ULTRA6 La Palma configuration.\\n\n",
    "#endif\\n\n",
    "trigger_telescopes = 2 % In contrast to Prod-3 South we apply loose stereo trigger immediately\n",
    "array_trigger = array_trigger_ultra6_diver-test.dat\"\"\")\n",
    "f.close()\n"
   ]
  },
  {
   "cell_type": "code",
   "execution_count": null,
   "metadata": {
    "pycharm": {
     "name": "#%%\n"
    }
   },
   "outputs": [],
   "source": [
    "#check cfg file\n",
    "with open(filename, 'r') as f:\n",
    "        print(f.read())"
   ]
  }
 ],
 "metadata": {
  "kernelspec": {
   "display_name": "Python 3",
   "language": "python",
   "name": "python3"
  },
  "language_info": {
   "codemirror_mode": {
    "name": "ipython",
    "version": 3
   },
   "file_extension": ".py",
   "mimetype": "text/x-python",
   "name": "python",
   "nbconvert_exporter": "python",
   "pygments_lexer": "ipython3",
   "version": "3.6.7"
  }
 },
 "nbformat": 4,
 "nbformat_minor": 1
}