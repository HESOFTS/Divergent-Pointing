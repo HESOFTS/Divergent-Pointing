{
 "cells": [
  {
   "cell_type": "code",
   "execution_count": 15,
   "metadata": {},
   "outputs": [
    {
     "name": "stdout",
     "output_type": "stream",
     "text": [
      "The autoreload extension is already loaded. To reload it, use:\n",
      "  %reload_ext autoreload\n"
     ]
    }
   ],
   "source": [
    "%load_ext autoreload\n",
    "%autoreload 2"
   ]
  },
  {
   "cell_type": "code",
   "execution_count": 16,
   "metadata": {},
   "outputs": [],
   "source": [
    "import astropy.units as u\n",
    "import numpy as np\n",
    "import matplotlib.pyplot as plt\n",
    "import sys\n",
    "from divtel.telescope import Telescope, Array\n",
    "from divtel import pointing\n",
    "from ipywidgets import interactive, FloatSlider, interact, fixed"
   ]
  },
  {
   "cell_type": "code",
   "execution_count": 17,
   "metadata": {},
   "outputs": [],
   "source": [
    "def hess_1():\n",
    "    tel1 = Telescope(100*u.m, 0*u.m, 0*u.m, 20*u.m, 1*u.m)\n",
    "    tel2 = Telescope(0 * u.m, 100 * u.m, 0 * u.m, 20 * u.m, 1 * u.m)\n",
    "    tel3 = Telescope(-100 * u.m, 0 * u.m, 0 * u.m, 20 * u.m, 1 * u.m)\n",
    "    tel4 = Telescope(0 * u.m, -100 * u.m, 0 * u.m, 20 * u.m, 1 * u.m)\n",
    "    return Array([tel1, tel2, tel3, tel4])\n",
    "\n",
    "def random_array(n=10):\n",
    "    tels = [Telescope(1000*np.random.rand()*u.m,\n",
    "                      1000*np.random.rand() * u.m,\n",
    "                      0 * u.m,\n",
    "                      np.random.rand() * u.m,\n",
    "                      np.random.rand() * u.m,\n",
    "                      )\n",
    "            for i in range(n)\n",
    "            ]\n",
    "    array = Array(tels)\n",
    "    for tel in array.telescopes:\n",
    "        tel.x -= array.barycenter[0]*u.m\n",
    "        tel.y -= array.barycenter[0]*u.m\n",
    "        tel.z -= array.barycenter[0]*u.m\n",
    "    return Array(tels)"
   ]
  },
  {
   "cell_type": "code",
   "execution_count": 18,
   "metadata": {},
   "outputs": [],
   "source": [
    "array = hess_1()\n",
    "\n",
    "for tel in array.telescopes:\n",
    "    tel.point_to_altaz(90*u.deg, 0*u.deg)"
   ]
  },
  {
   "cell_type": "code",
   "execution_count": 19,
   "metadata": {
    "scrolled": false
   },
   "outputs": [
    {
     "data": {
      "application/vnd.jupyter.widget-view+json": {
       "model_id": "0536971c4a3943cf96206df260ebc441",
       "version_major": 2,
       "version_minor": 0
      },
      "text/plain": [
       "interactive(children=(FloatSlider(value=0.0, description='div', max=1.0, step=0.01), IntSlider(value=45, descr…"
      ]
     },
     "metadata": {},
     "output_type": "display_data"
    }
   ],
   "source": [
    "%matplotlib inline\n",
    "@interact\n",
    "def interactive_2d(div=(0, 1, 0.01), alt=(0,90), az=(0,90)):\n",
    "    array.divergent_pointing(div, alt*u.deg, az*u.deg)\n",
    "    fig, axes = plt.subplots(1, 3, figsize=(15,4))\n",
    "    ax = array.display_2d(projection='xz', ax=axes[0])\n",
    "    array.display_2d(projection='xy', ax=axes[1])\n",
    "    array.display_2d(projection='yz', ax=axes[2])\n"
   ]
  },
  {
   "cell_type": "code",
   "execution_count": null,
   "metadata": {},
   "outputs": [],
   "source": []
  },
  {
   "cell_type": "code",
   "execution_count": 20,
   "metadata": {
    "scrolled": false
   },
   "outputs": [
    {
     "data": {
      "application/vnd.jupyter.widget-view+json": {
       "model_id": "6f10b791c20f49569a18cb08286e92d2",
       "version_major": 2,
       "version_minor": 0
      },
      "text/plain": [
       "interactive(children=(FloatSlider(value=0.2, description='div', max=1.0), IntSlider(value=80, description='alt…"
      ]
     },
     "metadata": {},
     "output_type": "display_data"
    }
   ],
   "source": [
    "%matplotlib inline\n",
    "@interact(continuous_update=False, div=(0, 1, 0.1), alt=(0,90,10), az=(0,360,10))\n",
    "def interactive_3d(div=0.2, alt=80, az=70):\n",
    "    array.divergent_pointing(div, alt*u.deg, az*u.deg)\n",
    "    ax = array.display_3d()\n",
    "    ax.scatter(array.barycenter[0], array.barycenter[1], array.barycenter[2])\n"
   ]
  },
  {
   "cell_type": "code",
   "execution_count": null,
   "metadata": {},
   "outputs": [],
   "source": []
  }
 ],
 "metadata": {
  "kernelspec": {
   "display_name": "Python 3",
   "language": "python",
   "name": "python3"
  },
  "language_info": {
   "codemirror_mode": {
    "name": "ipython",
    "version": 3
   },
   "file_extension": ".py",
   "mimetype": "text/x-python",
   "name": "python",
   "nbconvert_exporter": "python",
   "pygments_lexer": "ipython3",
   "version": "3.7.3"
  }
 },
 "nbformat": 4,
 "nbformat_minor": 2
}
